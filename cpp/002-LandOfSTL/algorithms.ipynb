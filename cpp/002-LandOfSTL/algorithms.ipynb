{
 "cells": [
  {
   "cell_type": "code",
   "execution_count": 1,
   "id": "facial-pursuit",
   "metadata": {},
   "outputs": [],
   "source": [
    "// SOURCE TUTORIAL https://www.youtube.com/watch?v=bFSnXNIsK4A\n",
    "\n",
    "#include <algorithm>\n",
    "#include <iostream>"
   ]
  },
  {
   "cell_type": "code",
   "execution_count": 2,
   "id": "sound-sunrise",
   "metadata": {},
   "outputs": [],
   "source": [
    "using namespace std;"
   ]
  },
  {
   "cell_type": "code",
   "execution_count": 3,
   "id": "helpful-catalyst",
   "metadata": {},
   "outputs": [
    {
     "name": "stdout",
     "output_type": "stream",
     "text": [
      "starting the exercise"
     ]
    }
   ],
   "source": [
    "cout << \"starting the exercise\";"
   ]
  },
  {
   "cell_type": "code",
   "execution_count": 4,
   "id": "vulnerable-incentive",
   "metadata": {},
   "outputs": [],
   "source": [
    "//helper functions\n",
    "//print collection\n",
    "template <typename T,typename C>\n",
    "void pc(T c){\n",
    "    copy(c.begin(),c.end(),ostream_iterator<C>(cout,\" \"));\n",
    "}\n",
    "void pc2(vector<int> v,string m=\" > \"){ cout<< endl << m << endl; for(auto i = v.begin();i != v.end(); i++) cout << (*i) << \" \";}"
   ]
  },
  {
   "cell_type": "code",
   "execution_count": 5,
   "id": "robust-pharmacology",
   "metadata": {},
   "outputs": [],
   "source": [
    "//#################################### 01 LAND OF PERMUTATIONS #####################################################"
   ]
  },
  {
   "cell_type": "code",
   "execution_count": null,
   "id": "secret-absence",
   "metadata": {},
   "outputs": [],
   "source": []
  },
  {
   "cell_type": "code",
   "execution_count": 6,
   "id": "stuffed-garden",
   "metadata": {},
   "outputs": [],
   "source": [
    "//################################### HEAPS (a tree which each parent node is greater then its children)\n",
    "// used to calculate the max of a collection in little time"
   ]
  },
  {
   "cell_type": "code",
   "execution_count": null,
   "id": "casual-therapy",
   "metadata": {},
   "outputs": [],
   "source": []
  },
  {
   "cell_type": "code",
   "execution_count": 7,
   "id": "monetary-harvest",
   "metadata": {},
   "outputs": [
    {
     "name": "stdout",
     "output_type": "stream",
     "text": [
      "the top the heap tree (represented in a vector)67\n",
      "heap changed after push : 100 6 67 1 3 8 45 \n",
      "top value displaced 67 6 45 1 3 8 100 "
     ]
    }
   ],
   "source": [
    "std::vector<int> preHeap{1,3,45,6,67,8};\n",
    "make_heap(preHeap.begin(),preHeap.end());\n",
    "\n",
    "//the max;\n",
    "cout << \"the top the heap tree (represented in a vector)\" << preHeap.front() << endl;\n",
    "\n",
    "// push new value and update\n",
    "preHeap.push_back(100);\n",
    "push_heap(begin(preHeap),end(preHeap)); \n",
    "cout << \"heap changed after push : \"; \n",
    "pc<vector<int>,int>(preHeap);\n",
    "\n",
    "//pop the heap (send it to the last position) call pop_back to remove it \n",
    "pop_heap(begin(preHeap),end(preHeap));\n",
    "cout << endl <<  \"top value displaced \"; pc<vector<int>,int>(preHeap);"
   ]
  },
  {
   "cell_type": "code",
   "execution_count": null,
   "id": "settled-emperor",
   "metadata": {},
   "outputs": [],
   "source": []
  },
  {
   "cell_type": "code",
   "execution_count": 8,
   "id": "graduate-deputy",
   "metadata": {},
   "outputs": [],
   "source": [
    "//############################ Sorting Shore"
   ]
  },
  {
   "cell_type": "code",
   "execution_count": null,
   "id": "former-malta",
   "metadata": {},
   "outputs": [],
   "source": []
  },
  {
   "cell_type": "code",
   "execution_count": 9,
   "id": "surrounded-export",
   "metadata": {},
   "outputs": [
    {
     "name": "stdout",
     "output_type": "stream",
     "text": [
      "reset: \n",
      " > \n",
      "32 54 65 6 7 6 76 45 54 2 1223 43 \n"
     ]
    }
   ],
   "source": [
    "//helper function to reshuffle the lists\n",
    "vector<int> tbSorted;\n",
    "auto reset = [&tbSorted](){ tbSorted= {32,54,65,6,7,6,76,45,54,2,1223,43}; cout << \"reset: \";pc2(tbSorted); cout <<endl;};\n",
    "reset();"
   ]
  },
  {
   "cell_type": "code",
   "execution_count": 10,
   "id": "united-prospect",
   "metadata": {},
   "outputs": [
    {
     "name": "stdout",
     "output_type": "stream",
     "text": [
      "\n",
      "heap 1223 54 76 54 32 43 65 45 6 2 7 6 \n",
      "heapsort : 2 6 6 7 32 43 45 54 54 65 76 1223 "
     ]
    }
   ],
   "source": [
    "//sort using the heap appreach taking the top each time and poping the heap\n",
    "std::make_heap(begin(tbSorted),end(tbSorted));\n",
    "cout << endl << \"heap \"; pc<vector<int>,int>(tbSorted); \n",
    "std::sort_heap(begin(tbSorted),end(tbSorted));\n",
    "cout << endl << \"heapsort : \"; pc<vector<int>,int>(tbSorted);"
   ]
  },
  {
   "cell_type": "code",
   "execution_count": 11,
   "id": "increased-weight",
   "metadata": {},
   "outputs": [
    {
     "name": "stdout",
     "output_type": "stream",
     "text": [
      "reset: \n",
      " > \n",
      "32 54 65 6 7 6 76 45 54 2 1223 43 \n",
      "\n",
      "sorted > \n",
      "2 6 6 7 32 43 45 54 54 65 76 1223 "
     ]
    }
   ],
   "source": [
    "//default sort NlogN\n",
    "reset();\n",
    "std::sort(begin(tbSorted),end(tbSorted));\n",
    "pc2(tbSorted,\"sorted > \");"
   ]
  },
  {
   "cell_type": "code",
   "execution_count": 12,
   "id": "coupled-kidney",
   "metadata": {},
   "outputs": [
    {
     "name": "stdout",
     "output_type": "stream",
     "text": [
      "reset: \n",
      " > \n",
      "32 54 65 6 7 6 76 45 54 2 1223 43 \n",
      "\n",
      " > \n",
      "2 6 6 7 65 54 76 45 54 32 1223 43 "
     ]
    }
   ],
   "source": [
    "//sort only the begining and the rest is undefined\n",
    "reset();\n",
    "std::partial_sort(tbSorted.begin(),tbSorted.begin()+4,tbSorted.end());\n",
    "pc2(tbSorted);"
   ]
  },
  {
   "cell_type": "code",
   "execution_count": 13,
   "id": "fundamental-lodge",
   "metadata": {},
   "outputs": [
    {
     "name": "stdout",
     "output_type": "stream",
     "text": [
      "reset: \n",
      " > \n",
      "32 54 65 6 7 6 76 45 54 2 1223 43 \n",
      "\n",
      "4th element is at it sorted place> \n",
      "6 2 6 7 32 43 54 45 54 76 1223 65 "
     ]
    }
   ],
   "source": [
    "//the element in the nth position if the array was sorted(left smaller,right bigger);\n",
    "reset();\n",
    "std::nth_element(tbSorted.begin(),tbSorted.begin()+4,tbSorted.end());\n",
    "pc2(tbSorted,\"4th element is at it sorted place> \");"
   ]
  },
  {
   "cell_type": "code",
   "execution_count": 14,
   "id": "wrong-insulin",
   "metadata": {},
   "outputs": [
    {
     "name": "stdout",
     "output_type": "stream",
     "text": [
      "\n",
      "joined vector> \n",
      "10 20 30 3 15 25 56 \n",
      "inplace_mereged> \n",
      "3 10 15 20 25 30 56 "
     ]
    }
   ],
   "source": [
    "//inplace_merge merge two sorted lists into a third\n",
    "vector<int> sorted1 = {10,20,30};\n",
    "vector<int> sorted2 = {3,15,25,56};\n",
    "\n",
    "vector<int> sorted3(7);\n",
    "//the copy return the iterator for the end of copying\n",
    "auto it = copy(sorted1.begin(),sorted1.end(),sorted3.begin());\n",
    "std::copy(sorted2.begin(),sorted2.end(),it);\n",
    "\n",
    "pc2(sorted3, \"joined vector> \");\n",
    "\n",
    "std::inplace_merge(sorted3.begin(),it,sorted3.end());\n",
    "pc2(sorted3, \"inplace_mereged> \");"
   ]
  },
  {
   "cell_type": "code",
   "execution_count": null,
   "id": "coastal-heritage",
   "metadata": {},
   "outputs": [],
   "source": []
  },
  {
   "cell_type": "code",
   "execution_count": 15,
   "id": "bronze-details",
   "metadata": {},
   "outputs": [],
   "source": [
    "//######################## Partitioining region (seperate the array into two regions depending on the criteria)\n"
   ]
  },
  {
   "cell_type": "code",
   "execution_count": null,
   "id": "rental-bernard",
   "metadata": {},
   "outputs": [],
   "source": []
  },
  {
   "cell_type": "code",
   "execution_count": 16,
   "id": "accessory-cargo",
   "metadata": {},
   "outputs": [
    {
     "name": "stdout",
     "output_type": "stream",
     "text": [
      "is partitioned? 0\n",
      "after partition> \n",
      "8 2 6 4 5 3 7 1 partition point iterator value > 5"
     ]
    }
   ],
   "source": [
    "vector<int> tbPartitioned {1,2,3,4,5,6,7,8};\n",
    "\n",
    "auto partition_function = [](int a){ return a%2==0;};\n",
    "\n",
    "//test if it is partioned\n",
    "cout << \"is partitioned? \" << std::is_partitioned(tbPartitioned.begin(),tbPartitioned.end(),partition_function);\n",
    "\n",
    "std::partition(tbPartitioned.begin(),tbPartitioned.end(),partition_function);\n",
    "\n",
    "pc2(tbPartitioned,\"after partition> \" );\n",
    "\n",
    "cout << \"partition point iterator value > \" << *std::partition_point(tbPartitioned.begin(),tbPartitioned.end(),partition_function);\n"
   ]
  },
  {
   "cell_type": "code",
   "execution_count": null,
   "id": "enormous-complaint",
   "metadata": {},
   "outputs": [],
   "source": []
  },
  {
   "cell_type": "code",
   "execution_count": 17,
   "id": "checked-thumbnail",
   "metadata": {},
   "outputs": [],
   "source": [
    "//############################ Permutations main land"
   ]
  },
  {
   "cell_type": "code",
   "execution_count": null,
   "id": "classified-concrete",
   "metadata": {},
   "outputs": [],
   "source": []
  },
  {
   "cell_type": "code",
   "execution_count": 18,
   "id": "divine-effort",
   "metadata": {},
   "outputs": [
    {
     "name": "stdout",
     "output_type": "stream",
     "text": [
      "\n",
      "reset: \n",
      " > \n",
      "32 54 65 6 7 6 76 45 54 2 1223 43 "
     ]
    }
   ],
   "source": [
    "//helper variables\n",
    "vector<int> a;\n",
    "auto reset = [&a](){ a= {32,54,65,6,7,6,76,45,54,2,1223,43}; cout << endl<<  \"reset: \";pc2(a);};\n",
    "reset();"
   ]
  },
  {
   "cell_type": "code",
   "execution_count": 19,
   "id": "twenty-tobacco",
   "metadata": {},
   "outputs": [
    {
     "name": "stdout",
     "output_type": "stream",
     "text": [
      "\n",
      "rotated: \n",
      "6 7 6 76 45 54 2 1223 43 32 54 65 \n",
      "reset: \n",
      " > \n",
      "32 54 65 6 7 6 76 45 54 2 1223 43 \n",
      "reversed: \n",
      "43 1223 2 54 45 76 6 7 6 65 54 32 \n",
      "reset: \n",
      " > \n",
      "32 54 65 6 7 6 76 45 54 2 1223 43 \n",
      "randamly shuffled: \n",
      "7 45 76 6 2 54 32 54 6 43 1223 65 \n",
      "reset: \n",
      " > \n",
      "32 54 65 6 7 6 76 45 54 2 1223 43 \n",
      "next permutation\n",
      "32 54 65 6 7 6 76 45 54 43 2 1223 "
     ]
    }
   ],
   "source": [
    "//rotate array items\n",
    "std::rotate(a.begin(),a.begin()+3,end(a));\n",
    "pc2(a,\"rotated: \");\n",
    "reset();\n",
    "\n",
    "//reverse an collection\n",
    "std::reverse(begin(a),end(a));\n",
    "pc2(a,\"reversed: \");\n",
    "reset();\n",
    "\n",
    "//shuffle all items (to not pass the generator use random_shuffle)\n",
    "//std::shuffle(begin(a),end(a),default_random_engine(0));\n",
    "std::random_shuffle(begin(a),end(a));\n",
    "pc2(a,\"randamly shuffled: \");\n",
    "reset();\n",
    "\n",
    "//loop over permutations using next_permutation and previous permutaion\n",
    "std::next_permutation(a.begin(),a.end());\n",
    "pc2(a,\"next permutation\");"
   ]
  },
  {
   "cell_type": "code",
   "execution_count": null,
   "id": "sunrise-mauritius",
   "metadata": {},
   "outputs": [],
   "source": []
  },
  {
   "cell_type": "code",
   "execution_count": 20,
   "id": "swiss-formation",
   "metadata": {},
   "outputs": [],
   "source": [
    "//###################### Secret Ruines (previous algorithms with extra power)"
   ]
  },
  {
   "cell_type": "code",
   "execution_count": null,
   "id": "sustained-cornell",
   "metadata": {},
   "outputs": [],
   "source": []
  },
  {
   "cell_type": "code",
   "execution_count": 21,
   "id": "another-moldova",
   "metadata": {},
   "outputs": [
    {
     "name": "stdout",
     "output_type": "stream",
     "text": [
      "personZ personB personC yasser"
     ]
    }
   ],
   "source": [
    "//STABLE_ if two values are equall when applying the sorting the items will be kept in the original order\n",
    "//although it worked with normal sort also\n",
    "\n",
    "//\n",
    "typedef struct Person{\n",
    "    std::string name;\n",
    "    int age;\n",
    "}Person;\n",
    "//sort using the age\n",
    "Person z{\"personZ\",20};\n",
    "Person a{\"yasser\",25};\n",
    "Person b{\"personB\",20};\n",
    "Person c{\"personC\",20};\n",
    "\n",
    "auto sort_person = [](Person a, Person b){ return a.age<b.age;};\n",
    "\n",
    "std::vector<Person> persons{z, a,b,c};\n",
    "\n",
    "std::stable_sort(persons.begin(),persons.end(),sort_person);\n",
    "\n",
    "cout << persons[0].name << \" \" << persons[1].name << \" \" << persons[2].name << \" \" << persons[3].name; \n"
   ]
  },
  {
   "cell_type": "code",
   "execution_count": 22,
   "id": "regulated-differential",
   "metadata": {},
   "outputs": [
    {
     "name": "stdout",
     "output_type": "stream",
     "text": [
      "is sorted> 1is sorted untill position 3"
     ]
    }
   ],
   "source": [
    "//IS_ and IS_*_UNTILL test if it is partitioned or sorted...\n",
    "vector<int> a{1,2,3,4,5,6};\n",
    "cout << \"is sorted> \" << is_sorted(begin(a),end(a));\n",
    "\n",
    "vector<int> b{1,2,3,6,3,5};\n",
    "cout << \"is sorted untill position \" << *std::is_sorted_until(begin(b),end(b));"
   ]
  },
  {
   "cell_type": "code",
   "execution_count": 23,
   "id": "magnetic-champagne",
   "metadata": {},
   "outputs": [
    {
     "name": "stdout",
     "output_type": "stream",
     "text": [
      "\n",
      "copied to > \n",
      "1 2 0 0 \n",
      "copied conditionaly > \n",
      "2 4 0 0 "
     ]
    }
   ],
   "source": [
    "//_N algorithm that specifies the distance \n",
    "vector<int> v1{1,2,3,4};\n",
    "vector<int> v2(4);\n",
    "\n",
    "std::copy_n(begin(v1),2,begin(v2));\n",
    "pc2(v2,\"copied to > \");\n",
    "\n",
    "//_IF condition on operations\n",
    "vector<int> v3(4);\n",
    "std::copy_if(v1.begin(),v1.end(),v3.begin(),[](int i){ return i%2==0;});\n",
    "pc2(v3,\"copied conditionaly > \");"
   ]
  },
  {
   "cell_type": "code",
   "execution_count": null,
   "id": "turned-disease",
   "metadata": {},
   "outputs": [],
   "source": []
  },
  {
   "cell_type": "code",
   "execution_count": 24,
   "id": "precious-porter",
   "metadata": {},
   "outputs": [],
   "source": [
    "//##################################### 2 Land Of Queries #########################################################"
   ]
  },
  {
   "cell_type": "code",
   "execution_count": null,
   "id": "supreme-mobility",
   "metadata": {},
   "outputs": [],
   "source": []
  },
  {
   "cell_type": "code",
   "execution_count": 25,
   "id": "caring-adams",
   "metadata": {},
   "outputs": [],
   "source": [
    "//###################### Provance of value queries (extract numeric a value about the array sum,cout)"
   ]
  },
  {
   "cell_type": "code",
   "execution_count": 26,
   "id": "criminal-angola",
   "metadata": {},
   "outputs": [
    {
     "name": "stdout",
     "output_type": "stream",
     "text": [
      "accurance of 4> 2"
     ]
    }
   ],
   "source": [
    "//TRANSFORM_ do just unary operations reduce,accumulate,in/exlusive_scan and partial_sum are binary\n",
    "\n",
    "vector<int> a{1,3,3,5,6,4,33,6,6,3,4,76,8,9};\n",
    "\n",
    "//count the accurance of a value\n",
    "cout << \"accurance of 4> \" << std::count(begin(a),end(a),4);\n"
   ]
  },
  {
   "cell_type": "code",
   "execution_count": 27,
   "id": "requested-contact",
   "metadata": {},
   "outputs": [
    {
     "name": "stdout",
     "output_type": "stream",
     "text": [
      "\n",
      "array: \n",
      "1 3 3 5 6 4 33 6 6 3 4 76 8 9 \n",
      "sum or accumulate: 167\n",
      "negative sum: -167\n",
      "inner product: 7203\n",
      " difference between adjacent elements: \n",
      "1 4 6 8 11 10 37 39 12 9 7 80 84 17 "
     ]
    }
   ],
   "source": [
    "//Lagoon of folds\n",
    "\n",
    "//sum the content REDUCE do the same thing with some threads options execution::par\n",
    "pc2(a,\"array: \");\n",
    "cout << endl << \"sum or accumulate: \" << std::accumulate(begin(a),end(a),0);\n",
    "\n",
    "//sum the content\n",
    "cout << endl << \"negative sum: \" << std::accumulate(begin(a),end(a),0,[](int a,int b){ return a-b;}); //or std::minus<>{}\n",
    "\n",
    "//sum the product of two arrays sum(a*a)\n",
    "cout << endl << \"inner product: \" << std::inner_product(begin(a),end(a),begin(a),0);\n",
    "\n",
    "//the difference between each item in the array but it can be use for other stuff\n",
    "vector<int> diff;\n",
    "std::adjacent_difference(begin(a),end(a),back_inserter(diff),[](int a,int b){ return a+b;});\n",
    "pc2(diff,\" difference between adjacent elements: \");\n",
    "\n",
    "//there is also sample() used to generate sequences form array\n",
    "  "
   ]
  },
  {
   "cell_type": "code",
   "execution_count": 28,
   "id": "finite-master",
   "metadata": {},
   "outputs": [
    {
     "name": "stdout",
     "output_type": "stream",
     "text": [
      "\n",
      "values to do operations on :\n",
      "1 3 3 5 6 4 33 6 6 3 4 76 8 9 \n",
      "partial sum : \n",
      "1 4 7 12 18 22 55 61 67 70 74 150 158 167 \n",
      "inclusive scan : \n",
      "1 4 7 12 18 22 55 61 67 70 74 150 158 167 \n",
      "exclusive scan : \n",
      "0 1 4 7 12 18 22 55 61 67 70 74 150 158 \n",
      "exclusive scan multiplication : \n",
      "1 1 3 9 45 270 1080 35640 213840 1283040 3849120 15396480 1170132480 771125248 \n",
      "\n",
      "transform and add2 8 14 24 36 44 110 122 134 140 148 300 316 334 "
     ]
    }
   ],
   "source": [
    "//valley of partial sums\n",
    "vector<int> b(a.size());\n",
    "pc2(a,\"values to do operations on :\");\n",
    "//default partial sum\n",
    "std::partial_sum(begin(a),end(a),b.begin());\n",
    "pc2(b, \"partial sum : \");\n",
    "\n",
    "//inclusive partial sum with inclusive-scan\n",
    "cout << endl << \"inclusive scan : \" << endl;\n",
    "std::inclusive_scan(begin(a),end(a),ostream_iterator<int>(cout,\" \"));\n",
    "\n",
    "//exclusif scan (the current is not included)\n",
    "cout << endl << \"exclusive scan : \" <<endl;\n",
    "std::exclusive_scan(begin(a),end(a),ostream_iterator<int>(cout,\" \"),0);\n",
    "\n",
    "//you add the operation at the end after the first value\n",
    "cout << endl << \"exclusive scan multiplication : \" <<endl;\n",
    "std::exclusive_scan(begin(a),end(a),ostream_iterator<int>(cout,\" \"),1,std::multiplies<int>{});\n",
    "\n",
    "\n",
    "//add transform to do an opperation on the item (unarry transform) and then the binary operation\n",
    "cout << endl << endl << \"transform and add\";\n",
    "std::transform_inclusive_scan(begin(a),end(a),ostream_iterator<int>(cout,\" \"),[](int a, int b){return a+b;},[](int a){return a*2;});"
   ]
  },
  {
   "cell_type": "code",
   "execution_count": null,
   "id": "surrounded-board",
   "metadata": {},
   "outputs": [],
   "source": []
  },
  {
   "cell_type": "code",
   "execution_count": 29,
   "id": "photographic-cannon",
   "metadata": {},
   "outputs": [],
   "source": [
    "//######################### Province of Property Queries none,any,all (a property about the collection)"
   ]
  },
  {
   "cell_type": "code",
   "execution_count": 30,
   "id": "overhead-scholarship",
   "metadata": {},
   "outputs": [
    {
     "name": "stdout",
     "output_type": "stream",
     "text": [
      "all superior to -1 > 1\n",
      " any have a 1 value > 1\n",
      " none of is 1 > 0"
     ]
    }
   ],
   "source": [
    "//property of one Range/collection\n",
    "vector<int> a{1,0,0,0,0};\n",
    "\n",
    "cout << \"all superior to -1 > \" << std::all_of(begin(a),end(a),[](int v){ return v > -1;}) << endl\n",
    "    << \" any have a 1 value > \" << std::any_of(begin(a),end(a),[](int v){ return v == 1;}) << endl\n",
    "    << \" none of is 1 > \" << std::none_of(begin(a),end(a),[](int v){ return v == 1;});"
   ]
  },
  {
   "cell_type": "code",
   "execution_count": null,
   "id": "dedicated-discussion",
   "metadata": {},
   "outputs": [],
   "source": []
  },
  {
   "cell_type": "code",
   "execution_count": 31,
   "id": "marked-athletics",
   "metadata": {},
   "outputs": [],
   "source": [
    "//########################### Province of property Queries 2-ranges"
   ]
  },
  {
   "cell_type": "code",
   "execution_count": 32,
   "id": "brave-transsexual",
   "metadata": {},
   "outputs": [
    {
     "name": "stdout",
     "output_type": "stream",
     "text": [
      "a==b : 0\n",
      "a and b content is permuted 1\n",
      "Y vs NY 0has first pair(lexicographically greater): 0\n",
      "first missmatch in the two values 3 2"
     ]
    }
   ],
   "source": [
    "vector<int> a{1,2,3,4};\n",
    "vector<int> b{2,3,1,4};\n",
    "\n",
    "//test if they are equal\n",
    "cout << \"a==b : \" << std::equal(begin(a),end(a),begin(b),end(b)) << endl;\n",
    "\n",
    "//see if they contain the same items\n",
    "cout << \"a and b content is permuted \" << std::is_permutation(begin(a),end(a),begin(b),end(b)) << endl;\n",
    "\n",
    "//compare lexically like a string(default) but it can be modified\n",
    "string y = \"yasser\";\n",
    "string ny = \"yassee\";\n",
    "cout << \"Y vs NY \" << std::lexicographical_compare(begin(y),end(y),begin(ny),end(ny));\n",
    "\n",
    "//this will make the first array with a pair greater then\n",
    "vector<int> c{1,1,3,2};\n",
    "vector<int> d{1,1,2,4,4,5};\n",
    "cout << \"has first pair(lexicographically greater): \" << std::lexicographical_compare(begin(c),end(c),begin(d),end(d)) << endl;\n",
    "\n",
    "//find the missmatch\n",
    "auto mm = std::mismatch(begin(c),end(c),begin(d),end(d));\n",
    "cout << \"first missmatch in the two values \" << *mm.first << \" \" << *mm.second;"
   ]
  },
  {
   "cell_type": "code",
   "execution_count": null,
   "id": "scheduled-religious",
   "metadata": {},
   "outputs": [],
   "source": []
  },
  {
   "cell_type": "code",
   "execution_count": 33,
   "id": "disturbed-elements",
   "metadata": {},
   "outputs": [],
   "source": [
    "//###################### Province of Searchers"
   ]
  },
  {
   "cell_type": "code",
   "execution_count": 34,
   "id": "handmade-withdrawal",
   "metadata": {},
   "outputs": [
    {
     "name": "stdout",
     "output_type": "stream",
     "text": [
      "position of 6 is > 5\n",
      "first equal and adjacent value 5\n",
      "adjacents that their difference is 4: 6"
     ]
    }
   ],
   "source": [
    "//Value Searchers - Not sorted\n",
    "//distance between two iterators\n",
    "vector<int> a{1,8,3,5,5,6,2,5,6};\n",
    "cout << \"position of 6 is > \" << std::distance(begin(a),std::find(begin(a),end(a),6)) << endl;\n",
    "\n",
    "//find the start of the adjacent elements that validate an operation (defuatl is equal);\n",
    "cout << \"first equal and adjacent value \" << *std::adjacent_find(begin(a),end(a))  << endl;\n",
    "cout << \"adjacents that their difference is 4: \"<< *std::adjacent_find(begin(a),end(a),[](int a,int b){ return a-b==4;});"
   ]
  },
  {
   "cell_type": "code",
   "execution_count": 35,
   "id": "durable-words",
   "metadata": {},
   "outputs": [],
   "source": [
    "//Value Searchers - Sorted"
   ]
  },
  {
   "cell_type": "code",
   "execution_count": 36,
   "id": "junior-application",
   "metadata": {},
   "outputs": [
    {
     "name": "stdout",
     "output_type": "stream",
     "text": [
      "bounds for 5 >> 4 7\n",
      "does 7 exists 1"
     ]
    },
    {
     "data": {
      "text/plain": [
       "@0x7f54e00efb60"
      ]
     },
     "execution_count": 36,
     "metadata": {},
     "output_type": "execute_result"
    }
   ],
   "source": [
    "vector<int> a{1,2,3,4,5,5,5,6,6,7};\n",
    "\n",
    "//get the range for the values (group lower_bound and upper_bound)\n",
    "auto bounds = std::equal_range(begin(a),end(a),5);\n",
    "cout << \"bounds for 5 >> \"<< distance(begin(a),bounds.first) << \" \" << distance(begin(a),bounds.second)<< endl;\n",
    "\n",
    "//return true if its exist\n",
    "cout << \"does 7 exists \" << std::binary_search(begin(a),end(a),7)"
   ]
  },
  {
   "cell_type": "code",
   "execution_count": 37,
   "id": "norman-principle",
   "metadata": {},
   "outputs": [
    {
     "name": "stdout",
     "output_type": "stream",
     "text": [
      "b position in  a > 3\n",
      "b position in a (starting from the end) > 10\n",
      "first of the c in a > 4"
     ]
    }
   ],
   "source": [
    "//Range searchers\n",
    "vector<int> a{1,2,3,4,5,6,7,8,9,10,4,5,6};\n",
    "vector<int> b{4,5,6};\n",
    "\n",
    "//search range as a whole\n",
    "cout << \"b position in  a > \" << distance(begin(a),std::search(begin(a),end(a),begin(b),end(b))) << endl;\n",
    "\n",
    "cout << \"b position in a (starting from the end) > \" << distance(begin(a),std::find_end(begin(a),end(a),begin(b),end(b))) << endl;\n",
    "\n",
    "//search the first accurance of any of the items\n",
    "vector<int> c{7,10,5};\n",
    "cout << \"first of the c in a > \" << distance(begin(a),std::find_first_of(begin(a),end(a),begin(c),end(c)));\n"
   ]
  },
  {
   "cell_type": "code",
   "execution_count": 38,
   "id": "theoretical-commander",
   "metadata": {},
   "outputs": [
    {
     "name": "stdout",
     "output_type": "stream",
     "text": [
      "position of the min: 5\n",
      "position of the max 4"
     ]
    }
   ],
   "source": [
    "//Relative Values Searchers min/max..\n",
    "vector<int> a {1,4,3,5,6,0};\n",
    "auto minmax = std::minmax_element(begin(a),end(a));\n",
    "cout<< \"position of the min: \" << std::distance(begin(a),minmax.first);\n",
    "cout << endl << \"position of the max \" << std::distance(begin(a),minmax.second);"
   ]
  },
  {
   "cell_type": "code",
   "execution_count": null,
   "id": "incoming-tomorrow",
   "metadata": {},
   "outputs": [],
   "source": []
  },
  {
   "cell_type": "code",
   "execution_count": 39,
   "id": "accessible-services",
   "metadata": {},
   "outputs": [],
   "source": [
    "//############################### 3 Glourious Algos on Sets(any sorted collection) #########################################3"
   ]
  },
  {
   "cell_type": "code",
   "execution_count": null,
   "id": "settled-count",
   "metadata": {},
   "outputs": [],
   "source": []
  },
  {
   "cell_type": "code",
   "execution_count": 40,
   "id": "sound-albuquerque",
   "metadata": {},
   "outputs": [],
   "source": [
    "vector<int>a = {1,2,3,4,5,8,12};\n",
    "vector<int>b = {1,2,3,10};"
   ]
  },
  {
   "cell_type": "code",
   "execution_count": 41,
   "id": "radio-charm",
   "metadata": {},
   "outputs": [
    {
     "name": "stdout",
     "output_type": "stream",
     "text": [
      "a in b > 0"
     ]
    }
   ],
   "source": [
    "//test if a in in b // needs to be sorted\n",
    "cout << \"a in b > \" << std::includes(begin(a),end(a),begin(b),end(b)); "
   ]
  },
  {
   "cell_type": "code",
   "execution_count": 42,
   "id": "spare-passport",
   "metadata": {},
   "outputs": [
    {
     "name": "stdout",
     "output_type": "stream",
     "text": [
      "1 2 3 4 5 8 10 12 "
     ]
    }
   ],
   "source": [
    "//the union\n",
    "std::set_union(begin(a),end(a),begin(b),end(b),ostream_iterator<int>(cout,\" \"));"
   ]
  },
  {
   "cell_type": "code",
   "execution_count": 43,
   "id": "deluxe-showcase",
   "metadata": {},
   "outputs": [
    {
     "name": "stdout",
     "output_type": "stream",
     "text": [
      "1 2 3 "
     ]
    }
   ],
   "source": [
    "//the intersection\n",
    "std::set_intersection(begin(a),end(a),begin(b),end(b),ostream_iterator<int>(cout,\" \"));"
   ]
  },
  {
   "cell_type": "code",
   "execution_count": 44,
   "id": "agricultural-section",
   "metadata": {},
   "outputs": [
    {
     "name": "stdout",
     "output_type": "stream",
     "text": [
      "1 1 2 2 3 3 4 5 8 10 12 "
     ]
    }
   ],
   "source": [
    "//the merge (keep duplicates + sort)\n",
    "std::merge(begin(a),end(a),begin(b),end(b),ostream_iterator<int>(cout,\" \"));"
   ]
  },
  {
   "cell_type": "code",
   "execution_count": 45,
   "id": "spread-heath",
   "metadata": {},
   "outputs": [
    {
     "name": "stdout",
     "output_type": "stream",
     "text": [
      "4 5 8 12 "
     ]
    }
   ],
   "source": [
    "//the difference\n",
    "std::set_difference(begin(a),end(a),begin(b),end(b),ostream_iterator<int>(cout,\" \"));"
   ]
  },
  {
   "cell_type": "code",
   "execution_count": 46,
   "id": "lightweight-compiler",
   "metadata": {},
   "outputs": [
    {
     "name": "stdout",
     "output_type": "stream",
     "text": [
      "4 5 8 10 12 "
     ]
    }
   ],
   "source": [
    "//the XOR\n",
    "std::set_symmetric_difference(begin(a),end(a),begin(b),end(b),ostream_iterator<int>(cout,\" \"));"
   ]
  },
  {
   "cell_type": "code",
   "execution_count": null,
   "id": "universal-mexico",
   "metadata": {},
   "outputs": [],
   "source": []
  },
  {
   "cell_type": "code",
   "execution_count": 47,
   "id": "thrown-denial",
   "metadata": {},
   "outputs": [],
   "source": [
    "//################################### 04 Terretory of movers #####################################################"
   ]
  },
  {
   "cell_type": "code",
   "execution_count": null,
   "id": "cordless-ebony",
   "metadata": {},
   "outputs": [],
   "source": []
  },
  {
   "cell_type": "code",
   "execution_count": 48,
   "id": "boolean-thumbnail",
   "metadata": {},
   "outputs": [
    {
     "name": "stdout",
     "output_type": "stream",
     "text": [
      "\n",
      "copied backward\n",
      "1 2 3 4 5 6 7 11 12 13 "
     ]
    }
   ],
   "source": [
    "//there is copy(already used)\n",
    "//copy backword to avoid problems that accures when copying from left to right\n",
    "vector<int> a = {1,2,3,4,5,6,7,8,9,10};\n",
    "vector<int> b = {11,12,13};\n",
    "copy_backward(b.begin(),begin(b)+3,end(a));\n",
    "pc2(a,\"copied backward\");"
   ]
  },
  {
   "cell_type": "code",
   "execution_count": 49,
   "id": "desirable-cologne",
   "metadata": {},
   "outputs": [
    {
     "name": "stdout",
     "output_type": "stream",
     "text": [
      "\n",
      "a after moving> \n",
      "1 2 3 \n",
      "b after moving> \n",
      "1 2 3 \n",
      "0x55a01e9c5030 0x55a01ece6eb0"
     ]
    },
    {
     "data": {
      "text/plain": [
       "@0x7f54e00efb60"
      ]
     },
     "execution_count": 49,
     "metadata": {},
     "output_type": "execute_result"
    }
   ],
   "source": [
    "//movers copy values from the original collection and referene\n",
    "vector<int> a{1,2,3};\n",
    "vector<int> b;\n",
    "std::move(begin(a),end(a),back_inserter(b));\n",
    "pc2(a,\"a after moving> \");\n",
    "pc2(b,\"b after moving> \");\n",
    "cout << endl << &a[0] << \" \" << &b[0];\n",
    "//same applyes for move backward"
   ]
  },
  {
   "cell_type": "code",
   "execution_count": 50,
   "id": "juvenile-outreach",
   "metadata": {},
   "outputs": [
    {
     "name": "stdout",
     "output_type": "stream",
     "text": [
      "\n",
      "A: \n",
      "200 200 200 100 100 \n",
      "\n",
      " B: \n",
      "100 100 100 200 "
     ]
    }
   ],
   "source": [
    "//swap to switch the content between two collections\n",
    "vector<int> a(5,100);\n",
    "vector<int> b(4,200);\n",
    "\n",
    "std::swap_ranges(begin(a),begin(a)+3,begin(b));\n",
    "pc2(a , \"A: \"); cout << endl;\n",
    "pc2(b,\" B: \")"
   ]
  },
  {
   "cell_type": "code",
   "execution_count": null,
   "id": "finished-metro",
   "metadata": {},
   "outputs": [],
   "source": []
  },
  {
   "cell_type": "code",
   "execution_count": 51,
   "id": "front-strap",
   "metadata": {},
   "outputs": [],
   "source": [
    "//##################################### 05 Value Modifiers #################################################333"
   ]
  },
  {
   "cell_type": "code",
   "execution_count": 52,
   "id": "current-combining",
   "metadata": {},
   "outputs": [],
   "source": [
    "//change the content"
   ]
  },
  {
   "cell_type": "code",
   "execution_count": 53,
   "id": "southwest-magic",
   "metadata": {},
   "outputs": [
    {
     "name": "stdout",
     "output_type": "stream",
     "text": [
      "\n",
      "a 0 filled?\n",
      "0 0 0 0 0 0 0 0 0 \n",
      "\n",
      "using a generator\n",
      "2 4 6 8 10 12 14 16 18 \n",
      "\n",
      "usin iota > \n",
      "5 6 7 8 9 10 11 12 13 \n",
      "\n",
      "4 replaced with 44> \n",
      "1 2 3 44 44 5 6 7 8 "
     ]
    }
   ],
   "source": [
    "//fill\n",
    "vector<int> a;\n",
    "auto reset = [&a](){a ={1,2,3,4,4,5,6,7,8};};\n",
    "reset();\n",
    "std::fill(begin(a),end(a),0);\n",
    "pc2(a,\"a 0 filled?\");\n",
    "\n",
    "//generate numbers\n",
    "reset();\n",
    "int c = 0;\n",
    "std::generate(begin(a),end(a),[&c](){ c++; return c*2;});\n",
    "cout<< endl; pc2(a,\"using a generator\");\n",
    "\n",
    "//using the iota (increment from a value)\n",
    "reset();\n",
    "std::iota(begin(a),end(a),5);\n",
    "cout << endl;\n",
    "pc2(a,\"usin iota > \");\n",
    "\n",
    "//replacing the values\n",
    "reset();\n",
    "std::replace(begin(a),end(a),4,44);\n",
    "cout << endl; pc2(a, \"4 replaced with 44> \");"
   ]
  },
  {
   "cell_type": "code",
   "execution_count": null,
   "id": "determined-upset",
   "metadata": {},
   "outputs": [],
   "source": []
  },
  {
   "cell_type": "code",
   "execution_count": 54,
   "id": "sudden-batman",
   "metadata": {},
   "outputs": [],
   "source": [
    "//###################################### 05 Structure  Changers ########################################"
   ]
  },
  {
   "cell_type": "code",
   "execution_count": 55,
   "id": "center-leonard",
   "metadata": {},
   "outputs": [],
   "source": [
    "//like removing"
   ]
  },
  {
   "cell_type": "code",
   "execution_count": 56,
   "id": "fatal-design",
   "metadata": {},
   "outputs": [
    {
     "name": "stdout",
     "output_type": "stream",
     "text": [
      "\n",
      " a with 6 removed\n",
      "1 3 4 5 7 8 9 10 7 8 9 10 \n",
      "12"
     ]
    }
   ],
   "source": [
    "//remove only return a pointer to the values to be poped\n",
    "vector<int> a{1,6,3,4,5,6,6,6,7,8,9,10};\n",
    "std::remove(begin(a),end(a),6);\n",
    "pc2(a,\" a with 6 removed\");\n",
    "cout << endl << a.size();"
   ]
  },
  {
   "cell_type": "code",
   "execution_count": 57,
   "id": "fourth-persian",
   "metadata": {},
   "outputs": [
    {
     "name": "stdout",
     "output_type": "stream",
     "text": [
      "\n",
      " a unique values(linear complexity)\n",
      "1 3 4 5 6 7 8 9 10 8 9 10 \n",
      "12"
     ]
    }
   ],
   "source": [
    "//unique only removes the adjacent ones\n",
    "vector<int> a{1,6,3,4,5,6,6,6,7,8,9,10};\n",
    "std::sort(begin(a),end(a));\n",
    "std::unique(begin(a),end(a));\n",
    "pc2(a,\" a unique values(linear complexity)\");\n",
    "cout << endl << a.size();"
   ]
  },
  {
   "cell_type": "code",
   "execution_count": null,
   "id": "designed-burst",
   "metadata": {},
   "outputs": [],
   "source": []
  },
  {
   "cell_type": "code",
   "execution_count": 58,
   "id": "stopped-workstation",
   "metadata": {},
   "outputs": [],
   "source": [
    "//############################### 6 Lonely Islands ###################################################################33333"
   ]
  },
  {
   "cell_type": "code",
   "execution_count": 59,
   "id": "offensive-resource",
   "metadata": {},
   "outputs": [
    {
     "name": "stdout",
     "output_type": "stream",
     "text": [
      "\n",
      "a transformed > \n",
      "2 4 6 "
     ]
    }
   ],
   "source": [
    "//transform : return an operation on each value\n",
    "vector<int> a{1,2,3};\n",
    "std::transform(begin(a),end(a),begin(a),[](int a){ return a*2;});\n",
    "pc2(a,\"a transformed > \");"
   ]
  },
  {
   "cell_type": "code",
   "execution_count": 60,
   "id": "differential-victory",
   "metadata": {},
   "outputs": [
    {
     "name": "stdout",
     "output_type": "stream",
     "text": [
      "2 is printed\n",
      "4 is printed\n",
      "6 is printed\n"
     ]
    },
    {
     "name": "stderr",
     "output_type": "stream",
     "text": [
      "\u001b[1minput_line_72:2:24: \u001b[0m\u001b[0;1;31merror: \u001b[0m\u001b[1muse of undeclared identifier 'lambda'\u001b[0m\n",
      " mime_bundle_repr(*(*((lambda)**)0x7ffc5f0fecd8));\n",
      "\u001b[0;1;32m                       ^\n",
      "\u001b[0m\u001b[1minput_line_72:2:33: \u001b[0m\u001b[0;1;31merror: \u001b[0m\u001b[1mexpected expression\u001b[0m\n",
      " mime_bundle_repr(*(*((lambda)**)0x7ffc5f0fecd8));\n",
      "\u001b[0;1;32m                                ^\n",
      "\u001b[0m"
     ]
    },
    {
     "data": {},
     "execution_count": 60,
     "metadata": {},
     "output_type": "execute_result"
    }
   ],
   "source": [
    "// foreach only for side effects (no returns);\n",
    "for_each(begin(a),end(a),[](int a){ cout << a <<\" is printed\" << endl;})"
   ]
  },
  {
   "cell_type": "code",
   "execution_count": null,
   "id": "executive-lawyer",
   "metadata": {},
   "outputs": [],
   "source": []
  },
  {
   "cell_type": "code",
   "execution_count": 61,
   "id": "unnecessary-cartoon",
   "metadata": {},
   "outputs": [],
   "source": [
    "//################################ 07 Pininsula of raw memorry ##########################################################3"
   ]
  },
  {
   "cell_type": "code",
   "execution_count": 62,
   "id": "disturbed-playlist",
   "metadata": {},
   "outputs": [],
   "source": [
    "// construct object in memmory using Uninitailized_fill(beg, end, val) and then clean it using destroy(beg)"
   ]
  },
  {
   "cell_type": "code",
   "execution_count": null,
   "id": "suitable-siemens",
   "metadata": {},
   "outputs": [],
   "source": []
  },
  {
   "cell_type": "code",
   "execution_count": null,
   "id": "extreme-aging",
   "metadata": {},
   "outputs": [],
   "source": []
  },
  {
   "cell_type": "code",
   "execution_count": null,
   "id": "worse-petite",
   "metadata": {},
   "outputs": [],
   "source": []
  },
  {
   "cell_type": "code",
   "execution_count": 63,
   "id": "associate-sherman",
   "metadata": {},
   "outputs": [],
   "source": [
    "//##########################################################################################################TESTING OTHER STUFF"
   ]
  },
  {
   "cell_type": "code",
   "execution_count": 64,
   "id": "common-geography",
   "metadata": {},
   "outputs": [
    {
     "name": "stdout",
     "output_type": "stream",
     "text": [
      "yasser"
     ]
    }
   ],
   "source": [
    "char a[] = \"yasser\";\n",
    "string newone;\n",
    "copy(a,a+6,back_inserter(newone));\n",
    "cout << newone;"
   ]
  },
  {
   "cell_type": "code",
   "execution_count": 65,
   "id": "south-rocket",
   "metadata": {},
   "outputs": [
    {
     "name": "stdout",
     "output_type": "stream",
     "text": [
      "14 1 14\n",
      "8 4 2"
     ]
    }
   ],
   "source": [
    "/// Arrays are not pointers and therfore you cant know the size of a array from a pointer\n",
    "//chars\n",
    "char a[]  = \"yassser second\";\n",
    "char *b =a;\n",
    "cout << strlen(b) << \" \" << sizeof(char) << \" \" << strlen(b)/sizeof(char)<< endl;\n",
    "\n",
    "//ints \n",
    "int ai[] = {1,2,3,4};\n",
    "int *bi = ai;\n",
    "cout << sizeof(bi) << \" \" << sizeof(int) << \" \" << sizeof(bi)/sizeof(int);"
   ]
  },
  {
   "cell_type": "code",
   "execution_count": 66,
   "id": "minimal-jenny",
   "metadata": {},
   "outputs": [],
   "source": [
    "//########################################################################################################### Collections"
   ]
  },
  {
   "cell_type": "code",
   "execution_count": 67,
   "id": "determined-indicator",
   "metadata": {},
   "outputs": [
    {
     "name": "stdout",
     "output_type": "stream",
     "text": [
      "5"
     ]
    }
   ],
   "source": [
    "#include<stack>\n",
    "std::stack<int> s;\n",
    "s.push(0);\n",
    "s.push(10);\n",
    "s.push(5);\n",
    "\n",
    "cout << s.top();"
   ]
  },
  {
   "cell_type": "code",
   "execution_count": 68,
   "id": "indirect-formation",
   "metadata": {},
   "outputs": [
    {
     "name": "stdout",
     "output_type": "stream",
     "text": [
      "10 30"
     ]
    }
   ],
   "source": [
    "#include <queue>\n",
    "std::queue<int> q;\n",
    "q.push(10);\n",
    "q.push(20);\n",
    "q.push(30);\n",
    "\n",
    "//cout << q.top(); No\n",
    "cout << q.front()<< \" \" << q.back();"
   ]
  },
  {
   "cell_type": "code",
   "execution_count": 69,
   "id": "altered-upset",
   "metadata": {},
   "outputs": [
    {
     "name": "stdout",
     "output_type": "stream",
     "text": [
      "30"
     ]
    }
   ],
   "source": [
    "std::priority_queue<int> pq;\n",
    "pq.push(20);\n",
    "pq.push(10);\n",
    "pq.push(30);\n",
    "pq.push(0);\n",
    "\n",
    "cout << pq.top();"
   ]
  },
  {
   "cell_type": "code",
   "execution_count": 70,
   "id": "certified-credits",
   "metadata": {},
   "outputs": [
    {
     "name": "stdout",
     "output_type": "stream",
     "text": [
      "10 20 "
     ]
    }
   ],
   "source": [
    "#include<set>\n",
    "std::set<int> s;\n",
    "//s.push(10); //? No!\n",
    "s.insert(20);\n",
    "s.insert(10);\n",
    "s.insert(10);\n",
    "\n",
    "std::for_each(begin(s),end(s),[](int a){cout << a << \" \" ;});"
   ]
  },
  {
   "cell_type": "code",
   "execution_count": 71,
   "id": "honest-conjunction",
   "metadata": {},
   "outputs": [
    {
     "name": "stdout",
     "output_type": "stream",
     "text": [
      "\n",
      " > \n",
      "1 2 3 "
     ]
    }
   ],
   "source": [
    "//testing implace\n",
    "vector<int> a{1,2,3};\n",
    "//a.emplace(2); works only on sets\n",
    "pc2(a);"
   ]
  },
  {
   "cell_type": "code",
   "execution_count": 72,
   "id": "martial-stuart",
   "metadata": {},
   "outputs": [
    {
     "name": "stderr",
     "output_type": "stream",
     "text": [
      "\u001b[1minput_line_87:6:11: \u001b[0m\u001b[0;1;31merror: \u001b[0m\u001b[1mno member named 'keys' in 'std::map<int, std::__cxx11::basic_string<char>, std::less<int>,\n",
      "      std::allocator<std::pair<const int, std::__cxx11::basic_string<char> > > >'\u001b[0m\n",
      "cout << m.keys().size();\n",
      "\u001b[0;1;32m        ~ ^\n",
      "\u001b[0m"
     ]
    },
    {
     "ename": "Interpreter Error",
     "evalue": "",
     "output_type": "error",
     "traceback": [
      "Interpreter Error: "
     ]
    }
   ],
   "source": [
    "std::map<int,string> m;\n",
    "m.insert({10,\"yasser\"});\n",
    "cout << m[10];\n",
    "m.erase(10);\n",
    "cout << m.size();"
   ]
  }
 ],
 "metadata": {
  "kernelspec": {
   "display_name": "C++17",
   "language": "C++17",
   "name": "xcpp17"
  },
  "language_info": {
   "codemirror_mode": "text/x-c++src",
   "file_extension": ".cpp",
   "mimetype": "text/x-c++src",
   "name": "c++",
   "version": "17"
  }
 },
 "nbformat": 4,
 "nbformat_minor": 5
}
