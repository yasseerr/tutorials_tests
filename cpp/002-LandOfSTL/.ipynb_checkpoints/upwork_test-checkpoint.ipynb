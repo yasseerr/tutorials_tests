{
 "cells": [
  {
   "cell_type": "code",
   "execution_count": 1,
   "id": "996bd74b",
   "metadata": {},
   "outputs": [],
   "source": [
    "#include  <algorithm>\n",
    "#include <iostream>"
   ]
  },
  {
   "cell_type": "code",
   "execution_count": 2,
   "id": "88a784e7",
   "metadata": {},
   "outputs": [],
   "source": [
    "using namespace std;"
   ]
  },
  {
   "cell_type": "code",
   "execution_count": 3,
   "id": "3d50709f",
   "metadata": {},
   "outputs": [
    {
     "name": "stdout",
     "output_type": "stream",
     "text": [
      "test new installation "
     ]
    }
   ],
   "source": [
    "cout << \"test new installation \";"
   ]
  },
  {
   "cell_type": "code",
   "execution_count": 4,
   "id": "02a328e7",
   "metadata": {},
   "outputs": [
    {
     "name": "stdout",
     "output_type": "stream",
     "text": [
      "10"
     ]
    }
   ],
   "source": [
    "int a = 10;\n",
    "cout << a;"
   ]
  },
  {
   "cell_type": "code",
   "execution_count": null,
   "id": "0b92ed62",
   "metadata": {},
   "outputs": [],
   "source": []
  },
  {
   "cell_type": "code",
   "execution_count": 5,
   "id": "08e4c8a1",
   "metadata": {},
   "outputs": [
    {
     "name": "stdout",
     "output_type": "stream",
     "text": [
      "20 15 1 10 5 "
     ]
    }
   ],
   "source": [
    "vector<int> a {1, 10, 20, 15, 5};\n",
    "make_heap(begin(a), end(a));\n",
    "copy(begin(a), end(a), ostream_iterator<int>(cout, \" \"));"
   ]
  },
  {
   "cell_type": "code",
   "execution_count": 6,
   "id": "60a1840e",
   "metadata": {},
   "outputs": [
    {
     "name": "stdout",
     "output_type": "stream",
     "text": [
      "15 10 1 5 20 "
     ]
    }
   ],
   "source": [
    "pop_heap(begin(a), end(a));\n",
    "copy(begin(a), end(a), ostream_iterator<int>(cout, \" \"));"
   ]
  },
  {
   "cell_type": "code",
   "execution_count": 7,
   "id": "f07dcef6",
   "metadata": {},
   "outputs": [],
   "source": [
    "a.pop_back();"
   ]
  },
  {
   "cell_type": "code",
   "execution_count": 8,
   "id": "24f3c98f",
   "metadata": {},
   "outputs": [],
   "source": [
    "vector<int> b {1, 2, 3};\n",
    "b.pop_back();"
   ]
  },
  {
   "cell_type": "code",
   "execution_count": 9,
   "id": "0794d300",
   "metadata": {},
   "outputs": [
    {
     "name": "stdout",
     "output_type": "stream",
     "text": [
      "1 2 "
     ]
    }
   ],
   "source": [
    "copy(begin(b), end(b), ostream_iterator<int>(cout, \" \"));"
   ]
  },
  {
   "cell_type": "code",
   "execution_count": 10,
   "id": "d284993f",
   "metadata": {},
   "outputs": [
    {
     "name": "stdout",
     "output_type": "stream",
     "text": [
      "4\n",
      "4"
     ]
    }
   ],
   "source": [
    "vector<int> c {1, 1, 3, 3, 4, 4, 6, 6};\n",
    "auto it = unique(begin(c), end(c));\n",
    "cout << distance(begin(c), it) << \"\\n\";\n",
    "c.erase(it, end(c));\n",
    "\n",
    "cout << c.size();\n"
   ]
  },
  {
   "cell_type": "code",
   "execution_count": 11,
   "id": "49da4abd",
   "metadata": {},
   "outputs": [
    {
     "name": "stdout",
     "output_type": "stream",
     "text": [
      "11"
     ]
    }
   ],
   "source": [
    "char a = 'a';\n",
    "char b = 'b';\n",
    "char a_a[] = {a};\n",
    "char b_a[] = {b};\n",
    "cout << lexicographical_compare(begin(a_a), end(a_a), begin(b_a), end(b_a));\n",
    "cout << lexicographical_compare(a_a, a_a+1, b_a, b_a+1);"
   ]
  },
  {
   "cell_type": "code",
   "execution_count": 12,
   "id": "3157e42d",
   "metadata": {},
   "outputs": [
    {
     "name": "stdout",
     "output_type": "stream",
     "text": [
      "gnitset"
     ]
    }
   ],
   "source": [
    "string s = \"testing\";\n",
    "string s2 = {rbegin(s), rend(s)};\n",
    "cout << s2;"
   ]
  },
  {
   "cell_type": "code",
   "execution_count": 13,
   "id": "4ea91205",
   "metadata": {},
   "outputs": [
    {
     "name": "stdout",
     "output_type": "stream",
     "text": [
      "1 2 3 4 5 6 7 8 9 10 11 12 13 14 15 16 17 18 19 20 "
     ]
    }
   ],
   "source": [
    "vector<int> v(20, 0);\n",
    "iota(begin(v), end(v), 1);\n",
    "\n",
    "copy(begin(v), end(v), ostream_iterator<int>(cout, \" \"));\n",
    "\n",
    "vector<int> v2 = {begin(v), begin(v)+12};\n",
    "\n"
   ]
  },
  {
   "cell_type": "code",
   "execution_count": 14,
   "id": "6e6a3b79",
   "metadata": {},
   "outputs": [
    {
     "name": "stdout",
     "output_type": "stream",
     "text": [
      "a"
     ]
    }
   ],
   "source": [
    "string a;\n",
    "a.push_back('a');\n",
    "cout << a;"
   ]
  },
  {
   "cell_type": "code",
   "execution_count": 15,
   "id": "92d41749",
   "metadata": {},
   "outputs": [
    {
     "name": "stdout",
     "output_type": "stream",
     "text": [
      "1"
     ]
    }
   ],
   "source": [
    "cout << ('a' < 'b');\n"
   ]
  },
  {
   "cell_type": "code",
   "execution_count": 16,
   "id": "859b7942",
   "metadata": {},
   "outputs": [
    {
     "name": "stdout",
     "output_type": "stream",
     "text": [
      "0"
     ]
    }
   ],
   "source": [
    "string a = \"ya\";\n",
    "string b = \"yo\";\n",
    "\n",
    "cout << (a > b);"
   ]
  },
  {
   "cell_type": "code",
   "execution_count": 17,
   "id": "b03c32da",
   "metadata": {},
   "outputs": [
    {
     "name": "stdout",
     "output_type": "stream",
     "text": [
      "3 4 "
     ]
    }
   ],
   "source": [
    "vector<int> a = {1, 2, 3, 4};\n",
    "copy_if(begin(a), end(a), ostream_iterator<int>(cout, \" \") , [](int v){ return  v > 2;});"
   ]
  },
  {
   "cell_type": "code",
   "execution_count": 18,
   "id": "bf660ec8",
   "metadata": {},
   "outputs": [],
   "source": [
    "vector<vector<int>> test_vector {\n",
    "    {1, 2, 3},\n",
    "    {4, 5, 6},\n",
    "    {7, 8, 9}\n",
    "};"
   ]
  },
  {
   "cell_type": "code",
   "execution_count": 19,
   "id": "829fdd44",
   "metadata": {},
   "outputs": [],
   "source": [
    "#include <set>\n",
    "int bestSquares(vector<vector<int>> m, int k) {\n",
    "    auto matrice_line_start = begin(m);\n",
    "    auto matrice_line_end = begin(m)+k;\n",
    "    auto print = [](vector<int> a){  copy(begin(a), end(a), ostream_iterator<int>(cout, \" \"));};\n",
    "    int current_max = 0;\n",
    "    vector<vector<int>> maxes;\n",
    "    while(true){\n",
    "        for(int c = 0; c < m[0].size()-k+1; c++){\n",
    "            vector<int> sub_matrix_items;\n",
    "            for(auto line = matrice_line_start; line != matrice_line_end; line++){\n",
    "                for(auto cell = begin(*line)+c; cell != begin(*line) + c + k; cell++){\n",
    "                    sub_matrix_items.push_back(*cell);\n",
    "                }\n",
    "            }\n",
    "            cout << \"submatrix > \";\n",
    "            int sub_mat_max = accumulate(begin(sub_matrix_items), end(sub_matrix_items), 0);\n",
    "            if(sub_mat_max > current_max){\n",
    "                current_max =  sub_mat_max;\n",
    "                maxes.clear();\n",
    "                maxes.push_back(sub_matrix_items);\n",
    "            }\n",
    "            else if(sub_mat_max == current_max){\n",
    "                maxes.push_back(sub_matrix_items);\n",
    "            }\n",
    "            print(sub_matrix_items);\n",
    "        }\n",
    "        if(matrice_line_end == end(m)) break;\n",
    "        matrice_line_end ++;\n",
    "        matrice_line_start ++;\n",
    "    }\n",
    "    \n",
    "    set<int> unique_val;\n",
    "    for_each(begin(maxes), end(maxes), [&unique_val](vector<int> a_max){\n",
    "        for(auto it = begin(a_max); it != end(a_max); it++)\n",
    "            unique_val.insert((*it));\n",
    "    });\n",
    "    return accumulate(begin(unique_val), end(unique_val), 0);\n",
    "}\n",
    "\n",
    "\n"
   ]
  },
  {
   "cell_type": "code",
   "execution_count": 20,
   "id": "2f3d11c3",
   "metadata": {},
   "outputs": [
    {
     "name": "stdout",
     "output_type": "stream",
     "text": [
      "submatrix > 1 2 4 5 submatrix > 2 3 5 6 "
     ]
    }
   ],
   "source": [
    "bestSquares(test_vector, 2);"
   ]
  }
 ],
 "metadata": {
  "kernelspec": {
   "display_name": "C++14",
   "language": "C++14",
   "name": "xcpp14"
  },
  "language_info": {
   "codemirror_mode": "text/x-c++src",
   "file_extension": ".cpp",
   "mimetype": "text/x-c++src",
   "name": "c++",
   "version": "14"
  }
 },
 "nbformat": 4,
 "nbformat_minor": 5
}
