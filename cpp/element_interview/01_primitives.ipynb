{
 "cells": [
  {
   "cell_type": "code",
   "execution_count": 1,
   "id": "tutorial-motivation",
   "metadata": {},
   "outputs": [],
   "source": [
    "//The primitive types inteview questions starting in page 44\n",
    "#include <bitset>\n",
    "#include <iostream>\n",
    "#include <bitset>\n",
    "#include <cmath>\n",
    "#include <array>"
   ]
  },
  {
   "cell_type": "code",
   "execution_count": 2,
   "id": "wound-mortality",
   "metadata": {},
   "outputs": [
    {
     "name": "stdout",
     "output_type": "stream",
     "text": [
      "-2147483648"
     ]
    }
   ],
   "source": [
    "//testing some newly known cmate functions\n",
    "#include <cmath>\n",
    "#include <iostream>\n",
    "\n",
    "//limit of primitive types\n",
    "std::cout << std::numeric_limits<int>().min();\n",
    "\n",
    "\n",
    "\n",
    "//generate random variables from distribution\n",
    "//include <random>\n",
    "//std::default_random_engine generator;\n",
    "//std::uniform_int_distribution<int> dist(1,6);\n",
    "//int rand1 = dist(generator);\n",
    "//std::cout << rand1;"
   ]
  },
  {
   "cell_type": "code",
   "execution_count": 3,
   "id": "going-bracket",
   "metadata": {},
   "outputs": [
    {
     "name": "stdout",
     "output_type": "stream",
     "text": [
      "10 1"
     ]
    }
   ],
   "source": [
    "//bit opperations\n",
    "int a = 0b1011;\n",
    "\n",
    "//clear last bit\n",
    "int a_cleared  = a & (a-1);\n",
    "//get the value\n",
    "int lowwest_bit_value = a & ~(a-1);\n",
    "std::cout << a_cleared << \" \" << lowwest_bit_value;"
   ]
  },
  {
   "cell_type": "code",
   "execution_count": 4,
   "id": "interpreted-vampire",
   "metadata": {},
   "outputs": [
    {
     "name": "stdout",
     "output_type": "stream",
     "text": [
      "initial value 01001001 mask 00011000 resutl 01010001"
     ]
    }
   ],
   "source": [
    "///To extract a bit at an index shift the int and then do an \"xor\" against 1/0 to get the inverse\n",
    "// use 1L to make sure the size of the mask is 64 bit\n",
    "// use std::bitset to convert to binary\n",
    "// reversing two bits\n",
    "unsigned long swp = 0b1001001;\n",
    "unsigned long mask = (1L << 3) | (1L << 4) ;\n",
    "auto result  = swp ^ mask;\n",
    "std::cout << \"initial value \" << std::bitset<8>(swp) << \" mask \" << std::bitset<8>(mask) << \" resutl \" << std::bitset<8>(result);"
   ]
  },
  {
   "cell_type": "code",
   "execution_count": 5,
   "id": "knowing-naples",
   "metadata": {},
   "outputs": [
    {
     "name": "stdout",
     "output_type": "stream",
     "text": [
      "a 00001011 closest to a 00001101"
     ]
    }
   ],
   "source": [
    "//integer with the closest weight\n",
    "unsigned long closestWeight(unsigned long x){\n",
    "    for(int i=0; i< 63; i++){\n",
    "        if(((x >> i) & 1) != ((x >> (i+1)) &1))\n",
    "            return (x ^ ((1UL << i) | (1UL << (i+1))));\n",
    "    }\n",
    "    return 0;\n",
    "}\n",
    "unsigned long a = 0b1011; //11\n",
    "std::cout << \"a \" << std::bitset<8>(a) << \" closest to a \" << std::bitset<8>(closestWeight(a));"
   ]
  },
  {
   "cell_type": "code",
   "execution_count": null,
   "id": "afraid-express",
   "metadata": {},
   "outputs": [],
   "source": []
  },
  {
   "cell_type": "code",
   "execution_count": 6,
   "id": "intelligent-restriction",
   "metadata": {},
   "outputs": [],
   "source": [
    "/// ***************************************************************\n",
    "//***************               ARAYS                          ****\n",
    "//*****************************************************************"
   ]
  },
  {
   "cell_type": "code",
   "execution_count": null,
   "id": "third-reception",
   "metadata": {},
   "outputs": [],
   "source": []
  },
  {
   "cell_type": "code",
   "execution_count": 7,
   "id": "amazing-melissa",
   "metadata": {},
   "outputs": [
    {
     "name": "stdout",
     "output_type": "stream",
     "text": [
      "0"
     ]
    }
   ],
   "source": [
    "//creating an array from standard library or a matrix\n",
    "using namespace std;\n",
    "array<array<int,4>,4> a {{{0,0,0,0},{0,0,0,0},{0,0,0,0},{0,0,0,0}}};\n",
    "cout << a[0][0];"
   ]
  },
  {
   "cell_type": "code",
   "execution_count": 8,
   "id": "respected-island",
   "metadata": {},
   "outputs": [
    {
     "name": "stdout",
     "output_type": "stream",
     "text": [
      "swaping result 2  4"
     ]
    }
   ],
   "source": [
    "//swaping items in an array using the algorithm library\n",
    "array<int,4> b {{1,4,2,5}};\n",
    "swap(b[1],b[2]);\n",
    "cout << \"swaping result \"<< b[1] << \"  \"<< b[2];"
   ]
  },
  {
   "cell_type": "code",
   "execution_count": 9,
   "id": "painted-afternoon",
   "metadata": {},
   "outputs": [
    {
     "name": "stdout",
     "output_type": "stream",
     "text": [
      "b2 first 1"
     ]
    }
   ],
   "source": [
    "//sorting for b\n",
    "array<int,3> b2 = {5,1,2};\n",
    "sort(b2.begin(),b2.end());\n",
    "cout << \"b2 first \" << b[0];"
   ]
  },
  {
   "cell_type": "code",
   "execution_count": 10,
   "id": "persistent-territory",
   "metadata": {},
   "outputs": [
    {
     "name": "stdout",
     "output_type": "stream",
     "text": [
      "another value 4\n",
      "another value 0\n",
      "another value 1\n",
      "another value 2\n",
      "4 0 1 2 "
     ]
    }
   ],
   "source": [
    "#include <iterator>\n",
    "// insertion in vectors\n",
    "vector<int> v1 = {0,1,2};\n",
    "v1.insert(v1.begin(),4);\n",
    "for(auto v : v1){\n",
    "    cout << \"another value \"<< v << endl;\n",
    "}\n",
    "std::copy(v1.begin(),v1.end(),std::ostream_iterator<int>(std::cout,\" \"));"
   ]
  },
  {
   "cell_type": "code",
   "execution_count": 11,
   "id": "proof-membership",
   "metadata": {},
   "outputs": [
    {
     "name": "stdout",
     "output_type": "stream",
     "text": [
      "2"
     ]
    }
   ],
   "source": [
    "//find if \n",
    "std::array<int,3> a3 = {1,2,3};\n",
    "auto result =   std::find_if(a3.begin(),a3.end(),[](int v){ return v==2;});\n",
    "cout << *result;"
   ]
  },
  {
   "cell_type": "code",
   "execution_count": 12,
   "id": "underlying-software",
   "metadata": {},
   "outputs": [
    {
     "name": "stdout",
     "output_type": "stream",
     "text": [
      "0 1 3 6 10 15 21 "
     ]
    }
   ],
   "source": [
    "//partial sum in std\n",
    "std::vector<int> v1 {{1,2,3,4,5,6}};\n",
    "std::vector<int> v2  = {0};\n",
    "std::partial_sum(v1.begin(),v1.end(),std::back_inserter(v2));\n",
    "std::copy(v2.begin(),v2.end(),std::ostream_iterator<int>(std::cout,\" \"));"
   ]
  },
  {
   "cell_type": "code",
   "execution_count": 13,
   "id": "swedish-system",
   "metadata": {},
   "outputs": [
    {
     "name": "stdout",
     "output_type": "stream",
     "text": [
      "213 25"
     ]
    }
   ],
   "source": [
    "//trying the sorting the default array using iterators (result: it does not alter)\n",
    "int arr1[] = {213,32,25,5231,345,6344,52};\n",
    "std::vector<int> vec1(arr1,arr1+5);\n",
    "std::sort(vec1.begin(),vec1.end());\n",
    "\n",
    "cout << arr1[0] << \" \" << vec1[0];"
   ]
  },
  {
   "cell_type": "code",
   "execution_count": 14,
   "id": "separate-bradford",
   "metadata": {},
   "outputs": [
    {
     "name": "stdout",
     "output_type": "stream",
     "text": [
      " 1 0"
     ]
    }
   ],
   "source": [
    "//the double ended queue\n",
    "std::deque<int> q1;\n",
    "q1.push_back(0);\n",
    "q1.push_front(1);\n",
    "for(auto i : q1) cout << \" \" << i;"
   ]
  },
  {
   "cell_type": "code",
   "execution_count": 15,
   "id": "discrete-dodge",
   "metadata": {},
   "outputs": [
    {
     "name": "stdout",
     "output_type": "stream",
     "text": [
      "yasser"
     ]
    }
   ],
   "source": [
    "//testing the emplace function , it emplace items directly.\n",
    "std::vector<pair<string,string>> vec2;\n",
    "//vec2.emplace_back({{\"yasser\",\"grimes\"}});\n",
    "//vec1.emplace_back(\"yasser\",\"grimes\");\n",
    "vec2.push_back(make_pair(\"yasser\", \"grimes\"));\n",
    "cout << vec2[0].first;"
   ]
  },
  {
   "cell_type": "code",
   "execution_count": 16,
   "id": "imported-california",
   "metadata": {},
   "outputs": [
    {
     "name": "stdout",
     "output_type": "stream",
     "text": [
      "30\n",
      "20"
     ]
    }
   ],
   "source": [
    "// a stack\n",
    "#include<stack>\n",
    "std::stack<int> s1;\n",
    "s1.push(10);\n",
    "s1.push(20);\n",
    "s1.push(30);\n",
    "cout << s1.top();\n",
    "s1.pop();\n",
    "cout << endl << s1.top();"
   ]
  },
  {
   "cell_type": "code",
   "execution_count": null,
   "id": "speaking-delicious",
   "metadata": {},
   "outputs": [],
   "source": []
  },
  {
   "cell_type": "code",
   "execution_count": 17,
   "id": "killing-relations",
   "metadata": {},
   "outputs": [],
   "source": [
    "/// ***************************************************************\n",
    "//***************               Strings                        ****\n",
    "//*****************************************************************"
   ]
  },
  {
   "cell_type": "code",
   "execution_count": null,
   "id": "architectural-perspective",
   "metadata": {},
   "outputs": [],
   "source": []
  },
  {
   "cell_type": "code",
   "execution_count": 18,
   "id": "vietnamese-british",
   "metadata": {},
   "outputs": [
    {
     "name": "stdout",
     "output_type": "stream",
     "text": [
      "salam 3alaykoum\n",
      "salam 3alaykou\n",
      "salam 3alaykoum\n",
      "1"
     ]
    }
   ],
   "source": [
    "//simple addition and other operations\n",
    "string a = \"salam\";\n",
    "a.append(\" 3alaykoum\");\n",
    "cout << a << endl;\n",
    "//only remmoves the last item and do not return the value\n",
    "a.pop_back();\n",
    "cout << a << endl;\n",
    "//using iterator\n",
    "//a.insert(a.begin(),\"m\");\n",
    "a.push_back('m');\n",
    "cout << a << endl << (a == \"salam 3alaykoum\");\n"
   ]
  },
  {
   "cell_type": "code",
   "execution_count": 19,
   "id": "hazardous-detail",
   "metadata": {},
   "outputs": [
    {
     "name": "stdout",
     "output_type": "stream",
     "text": [
      "-10"
     ]
    }
   ],
   "source": [
    "//string converstion\n",
    "string numS = \"-20\";\n",
    "//cin >> numS;\n",
    "cout << stoi(numS)+10;"
   ]
  },
  {
   "cell_type": "code",
   "execution_count": 20,
   "id": "indie-password",
   "metadata": {},
   "outputs": [
    {
     "name": "stdout",
     "output_type": "stream",
     "text": [
      "1233"
     ]
    }
   ],
   "source": [
    "//incrementing characters\n",
    "string numS2 = \"123\";\n",
    "numS2 += '0' + 3;\n",
    "cout << numS2;"
   ]
  },
  {
   "cell_type": "code",
   "execution_count": 21,
   "id": "public-platinum",
   "metadata": {},
   "outputs": [
    {
     "name": "stdout",
     "output_type": "stream",
     "text": [
      "passahw\n",
      "a name eman a 0x7f30ab637280 0x7f30ab6372a0"
     ]
    }
   ],
   "source": [
    "//return a reverse string using {} notation\n",
    "string rev(string s){\n",
    "    return {s.rbegin(),s.rend()};\n",
    "}\n",
    "cout << rev(\"whassap\") << endl;\n",
    "string t1 = \"a name\";\n",
    "string t2 = {t1.rbegin(),t1.rend()};\n",
    "cout << t1 << \" \" << t2 << \" \" <<  &t1 << \" \" << &t2;"
   ]
  },
  {
   "cell_type": "code",
   "execution_count": 22,
   "id": "figured-yugoslavia",
   "metadata": {},
   "outputs": [
    {
     "name": "stderr",
     "output_type": "stream",
     "text": [
      "\u001b[1minput_line_34:4:36: \u001b[0m\u001b[0;1;35mwarning: \u001b[0m\u001b[1mresult of comparison against a string literal is unspecified (use strncmp instead) [-Wstring-compare]\u001b[0m\n",
      "    cout << strlen(c) << \" \"  << (c==\"yasser\") << \" \" << strcmp(c,\"yasser\"); // 0 meens they are equal\n",
      "\u001b[0;1;32m                                   ^ ~~~~~~~~\n",
      "\u001b[0m"
     ]
    },
    {
     "name": "stdout",
     "output_type": "stream",
     "text": [
      "6 0 0"
     ]
    }
   ],
   "source": [
    "//testing the size of a char array in a function\n",
    "//result: do not use sizeof it only return the size of a pointer\n",
    "\n",
    "void testSize(char c[]){\n",
    "    cout << strlen(c) << \" \"  << (c==\"yasser\") << \" \" << strcmp(c,\"yasser\"); // 0 meens they are equal\n",
    "}\n",
    "char c1[] = \"yasser\";\n",
    "testSize(c1);"
   ]
  },
  {
   "cell_type": "code",
   "execution_count": 23,
   "id": "previous-testimony",
   "metadata": {},
   "outputs": [
    {
     "name": "stdout",
     "output_type": "stream",
     "text": [
      "a name to be desrever"
     ]
    }
   ],
   "source": [
    "//reversee part of the string\n",
    "string s1 = \"a name to be reversed\";\n",
    "reverse(s1.begin()+(size_t)13,s1.end());\n",
    "cout << s1;"
   ]
  },
  {
   "cell_type": "code",
   "execution_count": 24,
   "id": "systematic-reform",
   "metadata": {},
   "outputs": [
    {
     "name": "stdout",
     "output_type": "stream",
     "text": [
      "\u0000\u0000\u0000\u0000\u0000\u0000\u0000\u0000\u0000\u0000"
     ]
    }
   ],
   "source": [
    "//initialize the string\n",
    "string s2(10,0);\n",
    "cout << s2;"
   ]
  },
  {
   "cell_type": "code",
   "execution_count": null,
   "id": "moderate-retail",
   "metadata": {},
   "outputs": [],
   "source": []
  },
  {
   "cell_type": "code",
   "execution_count": 25,
   "id": "impressive-minimum",
   "metadata": {},
   "outputs": [],
   "source": [
    "/// ***************************************************************\n",
    "//***************               Linked Lists                   ****\n",
    "//*****************************************************************"
   ]
  },
  {
   "cell_type": "code",
   "execution_count": null,
   "id": "friendly-spiritual",
   "metadata": {},
   "outputs": [],
   "source": []
  },
  {
   "cell_type": "code",
   "execution_count": 26,
   "id": "mexican-baltimore",
   "metadata": {},
   "outputs": [
    {
     "name": "stdout",
     "output_type": "stream",
     "text": [
      "20 20 10 "
     ]
    }
   ],
   "source": [
    "//testing the list (doubly linked) and the forward_list (one direction and it is front)\n",
    "std::forward_list<int> forward_list1;\n",
    "forward_list1.push_front(10);\n",
    "forward_list1.push_front(20);\n",
    "forward_list1.insert_after(forward_list1.begin(),20);\n",
    "std::copy(forward_list1.begin(),forward_list1.end(),ostream_iterator<int>(cout,\" \"));"
   ]
  },
  {
   "cell_type": "code",
   "execution_count": 32,
   "id": "powered-harrison",
   "metadata": {},
   "outputs": [
    {
     "name": "stdout",
     "output_type": "stream",
     "text": [
      "Mr. yasser Mr. mohamed"
     ]
    }
   ],
   "source": [
    "//testing the transform function\n",
    "std::string addmr(std::string name){\n",
    "    return std::string(\"Mr. \"+name);\n",
    "}\n",
    "std::string names[] = {\"yasser\",\"mohamed\",\"ahmed\"};\n",
    "transform(names,names+3,names,addmr);\n",
    "cout << names[0] << \" \" << names[1];"
   ]
  },
  {
   "cell_type": "code",
   "execution_count": 35,
   "id": "australian-milwaukee",
   "metadata": {},
   "outputs": [
    {
     "name": "stdout",
     "output_type": "stream",
     "text": [
      "Dr. researcher1"
     ]
    }
   ],
   "source": [
    "//trying functors that provide a way to initialize a function\n",
    "class add_prefix{\n",
    "private:\n",
    "    std::string m_prefix = \"\";\n",
    "public:\n",
    "    add_prefix(std::string _prefix):m_prefix(_prefix){}\n",
    "    string operator () (string name){\n",
    "        return m_prefix + \" \" + name;\n",
    "    }\n",
    "};\n",
    "string names2[] = {\"researcher1\",\"researcher2\"};\n",
    "add_prefix pf1(\"Dr.\");\n",
    "transform(names2,names2+2,names2,pf1);\n",
    "cout << names2[0];"
   ]
  }
 ],
 "metadata": {
  "kernelspec": {
   "display_name": "C++17",
   "language": "C++17",
   "name": "xcpp17"
  },
  "language_info": {
   "codemirror_mode": "text/x-c++src",
   "file_extension": ".cpp",
   "mimetype": "text/x-c++src",
   "name": "c++",
   "version": "17"
  }
 },
 "nbformat": 4,
 "nbformat_minor": 5
}
