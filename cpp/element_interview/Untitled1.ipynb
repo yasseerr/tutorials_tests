{
 "cells": [
  {
   "cell_type": "code",
   "execution_count": 1,
   "id": "third-protein",
   "metadata": {},
   "outputs": [],
   "source": [
    "//The primitive types inteview questions starting in page 44"
   ]
  },
  {
   "cell_type": "code",
   "execution_count": 7,
   "id": "handed-lesson",
   "metadata": {},
   "outputs": [
    {
     "name": "stdout",
     "output_type": "stream",
     "text": [
      "-2147483648"
     ]
    }
   ],
   "source": [
    "//testing some newly known cmate functions\n",
    "#include <cmath>\n",
    "#include <iostream>\n",
    "\n",
    "//limit of primitive types\n",
    "std::cout << std::numeric_limits<int>().min();\n",
    "\n",
    "//generate random variables from distribution\n",
    "uniform_int_distribution<> dist(1,6);\n",
    "std::cout << dist."
   ]
  }
 ],
 "metadata": {
  "kernelspec": {
   "display_name": "C++17",
   "language": "C++17",
   "name": "xcpp17"
  },
  "language_info": {
   "codemirror_mode": "text/x-c++src",
   "file_extension": ".cpp",
   "mimetype": "text/x-c++src",
   "name": "c++",
   "version": "17"
  }
 },
 "nbformat": 4,
 "nbformat_minor": 5
}
