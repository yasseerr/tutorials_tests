{
 "cells": [
  {
   "cell_type": "code",
   "execution_count": 1,
   "id": "blessed-gabriel",
   "metadata": {},
   "outputs": [],
   "source": [
    "//The primitive types inteview questions starting in page 44"
   ]
  },
  {
   "cell_type": "code",
   "execution_count": 6,
   "id": "detected-mirror",
   "metadata": {},
   "outputs": [
    {
     "name": "stderr",
     "output_type": "stream",
     "text": [
      "\u001b[1minput_line_22:2:7: \u001b[0m\u001b[0;1;31merror: \u001b[0m\u001b[1mno member named 'cout' in namespace 'std'\u001b[0m\n",
      " std::cout << std::numeric_limits<int>().min();\n",
      "\u001b[0;1;32m ~~~~~^\n",
      "\u001b[0m"
     ]
    },
    {
     "ename": "Interpreter Error",
     "evalue": "",
     "output_type": "error",
     "traceback": [
      "Interpreter Error: "
     ]
    }
   ],
   "source": [
    "//testing some newly known cmate functions\n",
    "#include <cmath>\n",
    "#include <iostream>\n",
    "std::cout << std::numeric_limits<int>().min();"
   ]
  }
 ],
 "metadata": {
  "kernelspec": {
   "display_name": "C++17",
   "language": "C++17",
   "name": "xcpp17"
  },
  "language_info": {
   "codemirror_mode": "text/x-c++src",
   "file_extension": ".cpp",
   "mimetype": "text/x-c++src",
   "name": "c++",
   "version": "17"
  }
 },
 "nbformat": 4,
 "nbformat_minor": 5
}
