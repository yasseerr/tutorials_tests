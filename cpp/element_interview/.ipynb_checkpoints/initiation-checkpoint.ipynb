{
 "cells": [
  {
   "cell_type": "code",
   "execution_count": 2,
   "id": "realistic-dinner",
   "metadata": {},
   "outputs": [],
   "source": [
    "#include<iostream>"
   ]
  },
  {
   "cell_type": "code",
   "execution_count": 3,
   "id": "swedish-article",
   "metadata": {},
   "outputs": [
    {
     "name": "stdout",
     "output_type": "stream",
     "text": [
      "salamou 3alaykoum"
     ]
    },
    {
     "data": {
      "text/plain": [
       "@0x7fd8c59fcb60"
      ]
     },
     "execution_count": 3,
     "metadata": {},
     "output_type": "execute_result"
    }
   ],
   "source": [
    "std::cout << \"salamou 3alaykoum\""
   ]
  },
  {
   "cell_type": "code",
   "execution_count": 4,
   "id": "level-british",
   "metadata": {},
   "outputs": [],
   "source": [
    "int a = 20;"
   ]
  },
  {
   "cell_type": "code",
   "execution_count": 5,
   "id": "norman-element",
   "metadata": {},
   "outputs": [],
   "source": [
    "a >>= 1;"
   ]
  },
  {
   "cell_type": "code",
   "execution_count": 6,
   "id": "pharmaceutical-geology",
   "metadata": {},
   "outputs": [
    {
     "data": {
      "text/plain": [
       "10"
      ]
     },
     "execution_count": 6,
     "metadata": {},
     "output_type": "execute_result"
    }
   ],
   "source": [
    "a"
   ]
  },
  {
   "cell_type": "code",
   "execution_count": 7,
   "id": "valued-myanmar",
   "metadata": {},
   "outputs": [
    {
     "name": "stderr",
     "output_type": "stream",
     "text": [
      "\u001b[1minput_line_17:2:12: \u001b[0m\u001b[0;1;35mwarning: \u001b[0m\u001b[1mISO C++11 does not allow conversion from string literal to 'char *' [-Wwritable-strings]\u001b[0m\n",
      " char *a = \"first char array\";\n",
      "\u001b[0;1;32m           ^\n",
      "\u001b[0m"
     ]
    },
    {
     "name": "stdout",
     "output_type": "stream",
     "text": [
      "first char array"
     ]
    }
   ],
   "source": [
    "char *a = \"first char array\";\n",
    "std::cout << a;"
   ]
  },
  {
   "cell_type": "code",
   "execution_count": 8,
   "id": "shaped-fossil",
   "metadata": {},
   "outputs": [
    {
     "name": "stdout",
     "output_type": "stream",
     "text": [
      "0x556494ed6300"
     ]
    }
   ],
   "source": [
    "std::cout << new std::string(a);"
   ]
  },
  {
   "cell_type": "code",
   "execution_count": 9,
   "id": "capital-sugar",
   "metadata": {},
   "outputs": [
    {
     "name": "stdout",
     "output_type": "stream",
     "text": [
      "first char array"
     ]
    }
   ],
   "source": [
    "std::cout << std::string(a);"
   ]
  },
  {
   "cell_type": "code",
   "execution_count": 10,
   "id": "whole-harrison",
   "metadata": {},
   "outputs": [
    {
     "data": {
      "text/plain": [
       "\"first char array\""
      ]
     },
     "execution_count": 10,
     "metadata": {},
     "output_type": "execute_result"
    }
   ],
   "source": [
    "a"
   ]
  },
  {
   "cell_type": "code",
   "execution_count": null,
   "id": "listed-graph",
   "metadata": {},
   "outputs": [],
   "source": []
  }
 ],
 "metadata": {
  "kernelspec": {
   "display_name": "C++17",
   "language": "C++17",
   "name": "xcpp17"
  },
  "language_info": {
   "codemirror_mode": "text/x-c++src",
   "file_extension": ".cpp",
   "mimetype": "text/x-c++src",
   "name": "c++",
   "version": "17"
  }
 },
 "nbformat": 4,
 "nbformat_minor": 5
}
