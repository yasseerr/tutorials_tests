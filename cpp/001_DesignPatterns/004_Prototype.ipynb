{
 "cells": [
  {
   "cell_type": "code",
   "execution_count": 1,
   "id": "universal-importance",
   "metadata": {},
   "outputs": [],
   "source": [
    "/// a prototype is an object that offer the clone function for the cloning interface\n",
    "/// you change the parameters for the object and when you want a similar one like it use clone()\n",
    "/// the prototype registry to store key-value objects to copy later (like prefabs in unity)"
   ]
  },
  {
   "cell_type": "code",
   "execution_count": 2,
   "id": "adaptive-programmer",
   "metadata": {},
   "outputs": [],
   "source": [
    "#include <iostream>\n",
    "using namespace std;"
   ]
  },
  {
   "cell_type": "code",
   "execution_count": 4,
   "id": "auburn-routine",
   "metadata": {},
   "outputs": [
    {
     "name": "stdout",
     "output_type": "stream",
     "text": [
      "rect  100 100"
     ]
    }
   ],
   "source": [
    "// the prototype interface\n",
    "class Prototype{\n",
    "public:\n",
    "    virtual Prototype* copy() = 0;\n",
    "};\n",
    "\n",
    "// concrete class to be prototyped\n",
    "class Shape : public Prototype{\n",
    "public:\n",
    "    Shape(){}\n",
    "    Shape(Shape *_shape):shapeName(_shape->shapeName),width(_shape->width),height(_shape->height){}\n",
    "    std::string shapeName;\n",
    "    int width;\n",
    "    int height;\n",
    "    virtual Prototype* copy() override { return new Shape(this);}\n",
    "    void showShape(){ cout << shapeName << \"  \" << width << \" \" << height;}\n",
    "};\n",
    "\n",
    "std::map<string,Prototype*> registry;\n",
    "Shape s1;\n",
    "s1.shapeName = \"rect\";\n",
    "s1.width = 100;\n",
    "s1.height = 100;\n",
    "\n",
    "s1.showShape();\n",
    "registry[\"rect\"] = &s1;\n"
   ]
  },
  {
   "cell_type": "code",
   "execution_count": 12,
   "id": "incomplete-atlanta",
   "metadata": {},
   "outputs": [
    {
     "name": "stdout",
     "output_type": "stream",
     "text": [
      "rect  100 100square  100 100rect  100 100"
     ]
    }
   ],
   "source": [
    "auto s2 = dynamic_cast<Shape*>(registry[\"rect\"]->copy());\n",
    "s2->showShape();\n",
    "s2->shapeName = \"square\";\n",
    "s2->showShape();\n",
    "s1.showShape();"
   ]
  }
 ],
 "metadata": {
  "kernelspec": {
   "display_name": "C++17",
   "language": "C++17",
   "name": "xcpp17"
  },
  "language_info": {
   "codemirror_mode": "text/x-c++src",
   "file_extension": ".cpp",
   "mimetype": "text/x-c++src",
   "name": "c++",
   "version": "17"
  }
 },
 "nbformat": 4,
 "nbformat_minor": 5
}
