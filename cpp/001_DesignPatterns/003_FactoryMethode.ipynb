{
 "cells": [
  {
   "cell_type": "code",
   "execution_count": null,
   "id": "atlantic-malaysia",
   "metadata": {},
   "outputs": [],
   "source": [
    "/// Just like the Abstract Factory pattern, but only one function and not multiple factory methods inside an interface\n",
    "// you need a product interface with multiple concrete creation classes\n",
    "// the createProduct function that can be changed in the inheriting classes, to create different types of product"
   ]
  }
 ],
 "metadata": {
  "kernelspec": {
   "display_name": "C++17",
   "language": "C++17",
   "name": "xcpp17"
  },
  "language_info": {
   "codemirror_mode": "text/x-c++src",
   "file_extension": ".cpp",
   "mimetype": "text/x-c++src",
   "name": "c++",
   "version": "17"
  }
 },
 "nbformat": 4,
 "nbformat_minor": 5
}
