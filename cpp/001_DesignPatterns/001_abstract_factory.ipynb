{
 "cells": [
  {
   "cell_type": "code",
   "execution_count": 1,
   "id": "continuous-tuesday",
   "metadata": {},
   "outputs": [],
   "source": [
    "///DESCRIPTION produce families of related objects without specifying their concrete classes\n",
    "// https://refactoring.guru/design-patterns/abstract-factory\n",
    "// there is a multiple factories of products generelized in a abstract factory\n",
    "// each product is abstract and redifined in each factory (each factory produce that object differently)\n",
    "// Compared-with the factory methode pattern, the Abstract factory is an object with different factory methods"
   ]
  },
  {
   "cell_type": "code",
   "execution_count": 2,
   "id": "chinese-theme",
   "metadata": {},
   "outputs": [],
   "source": [
    "#include <iostream>\n",
    "using namespace std;"
   ]
  },
  {
   "cell_type": "code",
   "execution_count": 3,
   "id": "superior-tablet",
   "metadata": {},
   "outputs": [],
   "source": [
    "// products\n",
    "class Phone{\n",
    "public:\n",
    "    virtual void ring() = 0;\n",
    "    \n",
    "};\n",
    "\n",
    "class Pc{\n",
    "public:\n",
    "    virtual void code() = 0;\n",
    "};\n",
    "\n",
    "class ElectronicsFactory{\n",
    "public:\n",
    "    virtual Phone* createPhone() = 0;\n",
    "    virtual Pc* createPc() = 0;\n",
    "};\n"
   ]
  },
  {
   "cell_type": "code",
   "execution_count": 4,
   "id": "synthetic-apartment",
   "metadata": {},
   "outputs": [],
   "source": [
    "//Concrete factory of samsung products\n",
    "class GalaxyPhone: public Phone{\n",
    "    void ring() override{ cout << \"Its a galaxy phone\";}\n",
    "};\n",
    "class SamsungPC: public Pc{\n",
    "    void code() override { cout << \"It uses windows \" ;}\n",
    "};\n",
    "\n",
    "class SamsungFactory: public ElectronicsFactory{\n",
    "    Phone* createPhone() { return new GalaxyPhone();}\n",
    "    Pc* createPc() { return new SamsungPC();}\n",
    "};"
   ]
  },
  {
   "cell_type": "code",
   "execution_count": 5,
   "id": "royal-afternoon",
   "metadata": {},
   "outputs": [],
   "source": [
    "//Concrete factory of apple products\n",
    "class IPhone: public Phone{\n",
    "    void ring() override{ cout << \"Its an Iphone\";}\n",
    "};\n",
    "class Mac: public Pc{\n",
    "    void code() override { cout << \"It uses MacOS \" ;}\n",
    "};\n",
    "\n",
    "class AppleFactory: public ElectronicsFactory{\n",
    "    Phone* createPhone() { return new IPhone();}\n",
    "    Pc* createPc() { return new Mac();}\n",
    "};"
   ]
  },
  {
   "cell_type": "code",
   "execution_count": 7,
   "id": "indoor-liver",
   "metadata": {},
   "outputs": [
    {
     "name": "stdout",
     "output_type": "stream",
     "text": [
      "It uses windows "
     ]
    }
   ],
   "source": [
    "class Client{\n",
    "public:\n",
    "    ElectronicsFactory *m_preferedFactory = nullptr;\n",
    "};\n",
    "Client c;\n",
    "c.m_preferedFactory = new SamsungFactory();\n",
    "c.m_preferedFactory->createPc()->code();"
   ]
  }
 ],
 "metadata": {
  "kernelspec": {
   "display_name": "C++17",
   "language": "C++17",
   "name": "xcpp17"
  },
  "language_info": {
   "codemirror_mode": "text/x-c++src",
   "file_extension": ".cpp",
   "mimetype": "text/x-c++src",
   "name": "c++",
   "version": "17"
  }
 },
 "nbformat": 4,
 "nbformat_minor": 5
}
