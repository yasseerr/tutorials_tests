{
 "cells": [
  {
   "cell_type": "code",
   "execution_count": 1,
   "id": "cutting-opportunity",
   "metadata": {},
   "outputs": [],
   "source": [
    "/// used to add new features to an object without having to create a big hierarchy\n",
    "///- it needs a Product to build\n",
    "///- an builder interface specifying the building calls \n",
    "///- a concrete builder with a result function returning the built product\n",
    "///- a director to specify to the builder what to build"
   ]
  },
  {
   "cell_type": "code",
   "execution_count": 2,
   "id": "buried-chorus",
   "metadata": {},
   "outputs": [],
   "source": [
    "#include <iostream>\n",
    "#include <vector>\n",
    "using namespace std;"
   ]
  },
  {
   "cell_type": "code",
   "execution_count": 3,
   "id": "upset-samuel",
   "metadata": {},
   "outputs": [],
   "source": [
    "/// the product\n",
    "class Home{\n",
    "public:\n",
    "    vector<string> _parts;\n",
    "    void listHome(){ for(auto i=_parts.begin();i!=_parts.end();i++) cout << (*i) << \" ### \";}\n",
    "};"
   ]
  },
  {
   "cell_type": "code",
   "execution_count": 4,
   "id": "confirmed-ontario",
   "metadata": {},
   "outputs": [],
   "source": [
    "/// the builder interface\n",
    "class HomeBuilder{\n",
    "public:    \n",
    "    Home *home;\n",
    "    virtual void buildWalls(){ home->_parts.push_back(\"normal_wall\");};\n",
    "    virtual void colorWalls() {home->_parts.push_back(\"white_wall_color\");};\n",
    "    virtual void reset(){ home =  new Home();}\n",
    "    virtual Home* result(){ return home;};\n",
    "};\n",
    "\n",
    "class FancyBuilder: public HomeBuilder{\n",
    "    \n",
    "    void buildWalls() override { home->_parts.push_back(\"woodenWall\");}\n",
    "    void colorWalls() override { home->_parts.push_back(\"colored_panachet_with_diamond\");}\n",
    "};\n"
   ]
  },
  {
   "cell_type": "code",
   "execution_count": 5,
   "id": "functioning-breath",
   "metadata": {},
   "outputs": [],
   "source": [
    "// the director\n",
    "class Director{\n",
    "public:    \n",
    "    HomeBuilder *builder;\n",
    "    // the commands that could be issued to the director\n",
    "    void buildJustWalls(){ builder->buildWalls();}\n",
    "    void buildFull(){builder->buildWalls(); builder->colorWalls();}\n",
    "    \n",
    "};"
   ]
  },
  {
   "cell_type": "code",
   "execution_count": 6,
   "id": "retired-subsection",
   "metadata": {},
   "outputs": [
    {
     "name": "stdout",
     "output_type": "stream",
     "text": [
      "woodenWall ### colored_panachet_with_diamond ### "
     ]
    }
   ],
   "source": [
    "//create a  builder and reset\n",
    "FancyBuilder *b = new FancyBuilder();\n",
    "b->reset();\n",
    "//create a director\n",
    "Director *d = new Director();\n",
    "// give the director a builder\n",
    "d->builder = b;\n",
    "// command the director\n",
    "d->buildFull();\n",
    "\n",
    "//get the resuts\n",
    "b->result()->listHome();"
   ]
  }
 ],
 "metadata": {
  "kernelspec": {
   "display_name": "C++17",
   "language": "C++17",
   "name": "xcpp17"
  },
  "language_info": {
   "codemirror_mode": "text/x-c++src",
   "file_extension": ".cpp",
   "mimetype": "text/x-c++src",
   "name": "c++",
   "version": "17"
  }
 },
 "nbformat": 4,
 "nbformat_minor": 5
}
