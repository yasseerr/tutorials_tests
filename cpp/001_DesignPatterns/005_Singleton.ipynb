{
 "cells": [
  {
   "cell_type": "code",
   "execution_count": null,
   "id": "incredible-density",
   "metadata": {},
   "outputs": [],
   "source": [
    "/// meke the constructor private \n",
    "/// accecced only using instance() function"
   ]
  }
 ],
 "metadata": {
  "kernelspec": {
   "display_name": "C++17",
   "language": "C++17",
   "name": "xcpp17"
  },
  "language_info": {
   "codemirror_mode": "text/x-c++src",
   "file_extension": ".cpp",
   "mimetype": "text/x-c++src",
   "name": "c++",
   "version": "17"
  }
 },
 "nbformat": 4,
 "nbformat_minor": 5
}
