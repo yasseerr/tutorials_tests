{
 "cells": [
  {
   "cell_type": "code",
   "execution_count": 1,
   "id": "suspected-operator",
   "metadata": {},
   "outputs": [],
   "source": [
    "/// used to support using third party software that are not compatible with the current interface for the calling\n",
    "/// 1- the target Interface to adapt to\n",
    "/// 2- the Adaptee that its calls needs to be wrapped\n",
    "/// 3- the adapter inheriting the target and the adaptee and doing the conversion between them\n",
    "/// 4- the client code only calling the target\n"
   ]
  },
  {
   "cell_type": "code",
   "execution_count": 2,
   "id": "hazardous-israel",
   "metadata": {},
   "outputs": [],
   "source": [
    "#include <iostream>\n",
    "using namespace std;"
   ]
  },
  {
   "cell_type": "code",
   "execution_count": 3,
   "id": "blank-orientation",
   "metadata": {},
   "outputs": [],
   "source": [
    "/// the target\n",
    "class Target{\n",
    "    string _tar = \"target\";\n",
    "public:\n",
    "    virtual void knowThisOnly(){\n",
    "        cout << \"i only know this \" << _tar << endl;\n",
    "    }\n",
    "};"
   ]
  },
  {
   "cell_type": "code",
   "execution_count": 4,
   "id": "peripheral-sensitivity",
   "metadata": {},
   "outputs": [],
   "source": [
    "///The adapte\n",
    "class Adaptee{\n",
    "    string __tar2  = \"3rd party\";\n",
    "public:\n",
    "    void thisIsNew(){\n",
    "        cout << \"This is new \" << __tar2 << endl;\n",
    "    }\n",
    "};"
   ]
  },
  {
   "cell_type": "code",
   "execution_count": 6,
   "id": "asian-minister",
   "metadata": {},
   "outputs": [],
   "source": [
    "/// the adapter from the second to the first\n",
    "class Adapter : public Target,Adaptee{\n",
    "public:\n",
    "    void knowThisOnly(){\n",
    "        Target::knowThisOnly();\n",
    "        Adaptee::thisIsNew();\n",
    "        cout << \"Adapted\" << endl;\n",
    "    }\n",
    "};"
   ]
  },
  {
   "cell_type": "code",
   "execution_count": 10,
   "id": "nasty-primary",
   "metadata": {},
   "outputs": [
    {
     "name": "stdout",
     "output_type": "stream",
     "text": [
      "i only know this target\n",
      " --------------------- \n",
      "i only know this target\n",
      "This is new 3rd party\n",
      "Adapted\n"
     ]
    }
   ],
   "source": [
    "//clien code knows only target\n",
    "void client(Target *t){\n",
    "    t->knowThisOnly();\n",
    "}\n",
    "client(new Target());\n",
    "cout << \" --------------------- \" << endl;\n",
    "client(new Adapter());"
   ]
  }
 ],
 "metadata": {
  "kernelspec": {
   "display_name": "C++17",
   "language": "C++17",
   "name": "xcpp17"
  },
  "language_info": {
   "codemirror_mode": "text/x-c++src",
   "file_extension": ".cpp",
   "mimetype": "text/x-c++src",
   "name": "c++",
   "version": "17"
  }
 },
 "nbformat": 4,
 "nbformat_minor": 5
}
